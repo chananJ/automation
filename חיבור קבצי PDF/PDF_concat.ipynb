{
 "cells": [
  {
   "cell_type": "code",
   "execution_count": 7,
   "id": "95ffd8c8",
   "metadata": {},
   "outputs": [],
   "source": [
    "import glob\n",
    "import PyPDF2\n",
    "\n",
    "# Set the directory path where the PDF files are located\n",
    "directory_path = 'C:\\\\Users\\\\user\\\\Desktop\\\\למידת מכונה 2\\\\מצגות'\n",
    "\n",
    "# Get a list of PDF files in the directory\n",
    "pdf_files = glob.glob(directory_path + '/*.pdf')\n",
    "\n",
    "# Create a PDF merger object\n",
    "merger = PyPDF2.PdfMerger()\n",
    "\n",
    "# Loop through the PDF files and append them to the merger object\n",
    "for pdf_file in pdf_files:\n",
    "    merger.append(pdf_file)\n",
    "\n",
    "# Specify the output file name for the merged PDF\n",
    "output_file = 'final_file.pdf'\n",
    "\n",
    "# Write the merged PDF to the output file\n",
    "merger.write(output_file)\n",
    "\n",
    "# Close the merger object\n",
    "merger.close()"
   ]
  }
 ],
 "metadata": {
  "kernelspec": {
   "display_name": "Python 3 (ipykernel)",
   "language": "python",
   "name": "python3"
  },
  "language_info": {
   "codemirror_mode": {
    "name": "ipython",
    "version": 3
   },
   "file_extension": ".py",
   "mimetype": "text/x-python",
   "name": "python",
   "nbconvert_exporter": "python",
   "pygments_lexer": "ipython3",
   "version": "3.9.13"
  }
 },
 "nbformat": 4,
 "nbformat_minor": 5
}
